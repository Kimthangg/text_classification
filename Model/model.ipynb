{
 "cells": [
  {
   "cell_type": "code",
   "execution_count": 28,
   "metadata": {},
   "outputs": [],
   "source": [
    "import underthesea\n",
    "import re\n",
    "import pandas as pd\n",
    "from sklearn.model_selection import train_test_split\n",
    "from sklearn.feature_extraction.text import TfidfVectorizer\n",
    "from sklearn import naive_bayes\n",
    "from sklearn import preprocessing\n",
    "from sklearn.metrics import accuracy_score,precision_score, recall_score, f1_score\n",
    "import joblib\n"
   ]
  },
  {
   "cell_type": "code",
   "execution_count": 2,
   "metadata": {},
   "outputs": [],
   "source": [
    "def lower_tokenize(text):\n",
    "    text = text.lower()\n",
    "    text = re.sub(r'[^\\w\\s]', '', text)\n",
    "    text = re.sub(r'\\d+', '', text)\n",
    "    tokens = underthesea.word_tokenize(text)\n",
    "    # print(\"Lower\",tokens)\n",
    "    return tokens"
   ]
  },
  {
   "cell_type": "code",
   "execution_count": 3,
   "metadata": {},
   "outputs": [],
   "source": [
    "def remove_stopword(tokens):\n",
    "    with open(\"vietnamese-stopwords.txt\",\"r\",encoding=\"utf-8\") as file:\n",
    "        stopwords = file.readlines()\n",
    "    stopwords = [word.strip() for word in stopwords]\n",
    "    final_tokens = [token for token in tokens if token not in stopwords]\n",
    "    final_text = ' '.join(final_tokens)\n",
    "    # print(\"Stopword\",final_text)\n",
    "    return final_text\n"
   ]
  },
  {
   "cell_type": "code",
   "execution_count": 4,
   "metadata": {},
   "outputs": [],
   "source": [
    "df = pd.read_csv('../Crawl/Data.csv')"
   ]
  },
  {
   "cell_type": "code",
   "execution_count": 5,
   "metadata": {},
   "outputs": [],
   "source": [
    "# df = df.head(1000)"
   ]
  },
  {
   "cell_type": "code",
   "execution_count": 6,
   "metadata": {},
   "outputs": [
    {
     "name": "stdout",
     "output_type": "stream",
     "text": [
      "<class 'pandas.core.frame.DataFrame'>\n",
      "RangeIndex: 25000 entries, 0 to 24999\n",
      "Data columns (total 3 columns):\n",
      " #   Column      Non-Null Count  Dtype \n",
      "---  ------      --------------  ----- \n",
      " 0   Unnamed: 0  25000 non-null  int64 \n",
      " 1   Danh mục    25000 non-null  object\n",
      " 2   Nội dung    25000 non-null  object\n",
      "dtypes: int64(1), object(2)\n",
      "memory usage: 586.1+ KB\n"
     ]
    }
   ],
   "source": [
    "df.info()"
   ]
  },
  {
   "cell_type": "code",
   "execution_count": 7,
   "metadata": {},
   "outputs": [
    {
     "data": {
      "text/plain": [
       "Danh mục\n",
       "Xe                  3077\n",
       "Giới trẻ            3001\n",
       "Giáo dục            2602\n",
       "Sức khỏe            2573\n",
       "Thời sự             2449\n",
       "Thế giới            2309\n",
       "Văn hóa             2307\n",
       "Công nghệ - Game    2142\n",
       "Thể thao            1364\n",
       "Đời sống            1197\n",
       "Kinh tế             1098\n",
       "Giải trí             780\n",
       "Du lịch              101\n",
       "Name: count, dtype: int64"
      ]
     },
     "execution_count": 7,
     "metadata": {},
     "output_type": "execute_result"
    }
   ],
   "source": [
    "df['Danh mục'].value_counts()"
   ]
  },
  {
   "cell_type": "code",
   "execution_count": 8,
   "metadata": {},
   "outputs": [
    {
     "name": "stdout",
     "output_type": "stream",
     "text": [
      "<class 'pandas.core.frame.DataFrame'>\n",
      "RangeIndex: 25000 entries, 0 to 24999\n",
      "Data columns (total 3 columns):\n",
      " #   Column      Non-Null Count  Dtype \n",
      "---  ------      --------------  ----- \n",
      " 0   Unnamed: 0  25000 non-null  int64 \n",
      " 1   Danh mục    25000 non-null  object\n",
      " 2   Nội dung    25000 non-null  object\n",
      "dtypes: int64(1), object(2)\n",
      "memory usage: 586.1+ KB\n"
     ]
    }
   ],
   "source": [
    "df = df.dropna()\n",
    "df.info()"
   ]
  },
  {
   "cell_type": "code",
   "execution_count": 9,
   "metadata": {},
   "outputs": [],
   "source": [
    "content=df['Nội dung'].apply(lambda x: lower_tokenize(x))\n",
    "content=content.apply(lambda x: remove_stopword(x))\n",
    "label=df['Danh mục']"
   ]
  },
  {
   "cell_type": "code",
   "execution_count": 10,
   "metadata": {},
   "outputs": [
    {
     "data": {
      "text/plain": [
       "0        gói bao gồm chương trình tài chính sáng kiến n...\n",
       "1        cơ quan an ninh điều tra a bộ công an phát đi ...\n",
       "2        tand tphcm kháng cáo nhẹ hình phạt cựu giám đố...\n",
       "3        chương trình phiên họp chất vấn trả lời chất v...\n",
       "4        tand tỉnh vĩnh long phiên tòa hình sự sơ thẩm ...\n",
       "                               ...                        \n",
       "24995    hành trình tỏa rực rỡ khởi nghiệp song hoa điế...\n",
       "24996    pascal đề cử emmy vai diễn chính phim the last...\n",
       "24997    phim trấn thành dẫn đầu phòng vé quafbnvtheo g...\n",
       "24998    phát hành link ca khúc hoàng thùy linh nhận mư...\n",
       "24999    tết khán giả lê giang phim bầuđpcctối diễn viê...\n",
       "Name: Nội dung, Length: 25000, dtype: object"
      ]
     },
     "execution_count": 10,
     "metadata": {},
     "output_type": "execute_result"
    }
   ],
   "source": [
    "content"
   ]
  },
  {
   "cell_type": "code",
   "execution_count": 11,
   "metadata": {},
   "outputs": [
    {
     "data": {
      "text/plain": [
       "0        Thế giới\n",
       "1         Thời sự\n",
       "2         Thời sự\n",
       "3         Thời sự\n",
       "4         Thời sự\n",
       "           ...   \n",
       "24995    Giải trí\n",
       "24996     Văn hóa\n",
       "24997    Giải trí\n",
       "24998    Giải trí\n",
       "24999    Giải trí\n",
       "Name: Danh mục, Length: 25000, dtype: object"
      ]
     },
     "execution_count": 11,
     "metadata": {},
     "output_type": "execute_result"
    }
   ],
   "source": [
    "label"
   ]
  },
  {
   "cell_type": "code",
   "execution_count": 42,
   "metadata": {},
   "outputs": [],
   "source": [
    "# Chia dữ liệu thành tập huấn luyện và tập kiểm tra\n",
    "X_train, X_test, y_train, y_test = train_test_split(content, label, test_size=0.3, random_state=10)\n",
    "tfidf_vectorizer = TfidfVectorizer(max_features=5000, ngram_range=(1, 2))\n",
    "X_train_tfidf = tfidf_vectorizer.fit_transform(X_train)\n",
    "X_test_tfidf = tfidf_vectorizer.transform(X_test)\n",
    "# Mã hóa nhãn mục tiêu\n",
    "encoder = preprocessing.LabelEncoder()\n",
    "y_train = encoder.fit_transform(y_train)\n",
    "y_test = encoder.transform(y_test)"
   ]
  },
  {
   "cell_type": "code",
   "execution_count": 37,
   "metadata": {},
   "outputs": [
    {
     "data": {
      "text/plain": [
       "(17500, 5000)"
      ]
     },
     "execution_count": 37,
     "metadata": {},
     "output_type": "execute_result"
    }
   ],
   "source": [
    "X_train_tfidf.shape"
   ]
  },
  {
   "cell_type": "code",
   "execution_count": 38,
   "metadata": {},
   "outputs": [
    {
     "data": {
      "text/plain": [
       "(7500, 5000)"
      ]
     },
     "execution_count": 38,
     "metadata": {},
     "output_type": "execute_result"
    }
   ],
   "source": [
    "X_test_tfidf.shape"
   ]
  },
  {
   "cell_type": "code",
   "execution_count": 39,
   "metadata": {},
   "outputs": [],
   "source": [
    "#Huấn luyện mô hình Naive Bayes\n",
    "MultiNB = naive_bayes.MultinomialNB(alpha=0.2)\n",
    "# fit the training dataset on the classifier\n",
    "MultiNB.fit(X_train_tfidf, y_train)\n",
    "# Dự đoán nhãn\n",
    "predictions_nb = MultiNB.predict(X_test_tfidf)"
   ]
  },
  {
   "cell_type": "code",
   "execution_count": 40,
   "metadata": {},
   "outputs": [
    {
     "name": "stdout",
     "output_type": "stream",
     "text": [
      "Đánh giá bằng: Accuracy: 0.8196\n",
      "Đánh giá bằng: Precision: 0.8198544687794502\n",
      "Đánh giá bằng: Recall: 0.8196\n",
      "Đánh giá bằng: F1 Score: 0.8180657859781402\n"
     ]
    }
   ],
   "source": [
    "# Accuracy\n",
    "accuracy = accuracy_score(predictions_nb, y_test)\n",
    "print(f\"Đánh giá bằng: Accuracy: {accuracy}\")\n",
    "\n",
    "# Precision\n",
    "precision = precision_score(predictions_nb, y_test, average='weighted')\n",
    "print(f\"Đánh giá bằng: Precision: {precision}\")\n",
    "\n",
    "# Recall\n",
    "recall = recall_score(predictions_nb, y_test, average='weighted')\n",
    "print(f\"Đánh giá bằng: Recall: {recall}\")\n",
    "\n",
    "# F1 Score\n",
    "f1 = f1_score(predictions_nb, y_test, average='weighted')\n",
    "print(f\"Đánh giá bằng: F1 Score: {f1}\")"
   ]
  },
  {
   "cell_type": "code",
   "execution_count": 41,
   "metadata": {},
   "outputs": [
    {
     "name": "stdout",
     "output_type": "stream",
     "text": [
      "Nội dung:  học toán\n",
      "Dự đoán danh mục:  Giáo dục\n",
      "----------------------------------------\n",
      "Nội dung:  việt nam sân thắng lào tỉ số\n",
      "Dự đoán danh mục:  Thể thao\n",
      "----------------------------------------\n",
      "Nội dung:  bạo lực học đường\n",
      "Dự đoán danh mục:  Giáo dục\n",
      "----------------------------------------\n",
      "Nội dung:  xe ariblade cc ngoại hình siêu đẹp\n",
      "Dự đoán danh mục:  Xe\n",
      "----------------------------------------\n"
     ]
    }
   ],
   "source": [
    "# Chuẩn bị dữ liệu kiểm thử mới\n",
    "new_data = [\"Tôi thích học Toán\",\n",
    "            \"VIệt Nam ra sân thắng Lào với tỉ số 10-0\",\n",
    "            \"Bạo lực học đường là vấn đề được quan tâm nhất hiện nay\",\n",
    "            \"Xe Ariblade 165CC có ngoại hình siêu đẹp\"]\n",
    "\n",
    "# Tiền xử lý dữ liệu kiểm thử mới\n",
    "new_data= [lower_tokenize(text) for text in new_data]\n",
    "new_data = [remove_stopword(tokens) for tokens in new_data] # Loại bỏ stop words\n",
    "# Chuyển đổi dữ liệu kiểm thử mới thành đặc trưng TF-IDF\n",
    "new_data_tfidf = tfidf_vectorizer.transform(new_data)\n",
    "\n",
    "# Dự đoán nhãn với dữ liệu kiểm thử mới\n",
    "new_predictions = MultiNB.predict(new_data_tfidf)\n",
    "\n",
    "# Chuyển đổi nhãn được dự đoán về dạng ban đầu\n",
    "new_predictions_labels = encoder.inverse_transform(new_predictions)\n",
    "# In ra các dự đoán\n",
    "for i, text in enumerate(new_data):\n",
    "    print(f\"Nội dung: \",text)\n",
    "    print(f\"Dự đoán danh mục: \",new_predictions_labels[i])\n",
    "    print(\"-\" * 40)"
   ]
  },
  {
   "cell_type": "code",
   "execution_count": 18,
   "metadata": {},
   "outputs": [
    {
     "data": {
      "text/plain": [
       "['model.joblib']"
      ]
     },
     "execution_count": 18,
     "metadata": {},
     "output_type": "execute_result"
    }
   ],
   "source": [
    "joblib.dump((tfidf_vectorizer,MultiNB,encoder), \"model.joblib\")"
   ]
  },
  {
   "cell_type": "code",
   "execution_count": null,
   "metadata": {},
   "outputs": [],
   "source": []
  }
 ],
 "metadata": {
  "kernelspec": {
   "display_name": "base",
   "language": "python",
   "name": "python3"
  },
  "language_info": {
   "codemirror_mode": {
    "name": "ipython",
    "version": 3
   },
   "file_extension": ".py",
   "mimetype": "text/x-python",
   "name": "python",
   "nbconvert_exporter": "python",
   "pygments_lexer": "ipython3",
   "version": "3.11.5"
  }
 },
 "nbformat": 4,
 "nbformat_minor": 2
}
