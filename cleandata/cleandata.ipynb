{
 "cells": [
  {
   "cell_type": "code",
   "execution_count": 1,
   "metadata": {},
   "outputs": [],
   "source": [
    "import underthesea\n",
    "import re\n",
    "import pandas as pd"
   ]
  },
  {
   "cell_type": "code",
   "execution_count": 2,
   "metadata": {},
   "outputs": [],
   "source": [
    "def lower_tokenize(text):\n",
    "    if isinstance(text, str):\n",
    "        text = text.lower()\n",
    "        text = re.sub(r'[^\\w\\s]', '', text)\n",
    "        tokens = underthesea.word_tokenize(text)\n",
    "        return tokens\n",
    "    return []"
   ]
  },
  {
   "cell_type": "code",
   "execution_count": 3,
   "metadata": {},
   "outputs": [],
   "source": [
    "def remove_stopword(tokens):\n",
    "    if isinstance(tokens, list):\n",
    "        with open(\"../cleandata/vietnamese-stopwords.txt\", \"r\", encoding=\"utf-8\") as file:\n",
    "            stopwords = file.readlines()\n",
    "        stopwords = [word.strip() for word in stopwords]\n",
    "        final_tokens = [token for token in tokens if token not in stopwords]\n",
    "        final_text = ' '.join(final_tokens)\n",
    "        return final_text\n",
    "    return ''\n"
   ]
  },
  {
   "cell_type": "code",
   "execution_count": 4,
   "metadata": {},
   "outputs": [],
   "source": [
    "df = pd.read_csv(\"../cleandata/Data.csv\")"
   ]
  },
  {
   "cell_type": "code",
   "execution_count": 5,
   "metadata": {},
   "outputs": [
    {
     "name": "stdout",
     "output_type": "stream",
     "text": [
      "<class 'pandas.core.frame.DataFrame'>\n",
      "RangeIndex: 30153 entries, 0 to 30152\n",
      "Data columns (total 2 columns):\n",
      " #   Column    Non-Null Count  Dtype \n",
      "---  ------    --------------  ----- \n",
      " 0   Danh mục  30153 non-null  object\n",
      " 1   Nội dung  22225 non-null  object\n",
      "dtypes: object(2)\n",
      "memory usage: 471.3+ KB\n"
     ]
    }
   ],
   "source": [
    "df.info()"
   ]
  },
  {
   "cell_type": "code",
   "execution_count": 6,
   "metadata": {},
   "outputs": [
    {
     "data": {
      "text/plain": [
       "Danh mục\n",
       "Văn hóa             4299\n",
       "Sức khỏe            3556\n",
       "Xe                  3340\n",
       "Giáo dục            2887\n",
       "Thời sự             2879\n",
       "Giới trẻ            2763\n",
       "Công nghệ - Game    2514\n",
       "Thể thao            1946\n",
       "Thế giới            1651\n",
       "Đời sống            1449\n",
       "Giải trí            1300\n",
       "Kinh tế             1234\n",
       "Du lịch              335\n",
       "Name: count, dtype: int64"
      ]
     },
     "execution_count": 6,
     "metadata": {},
     "output_type": "execute_result"
    }
   ],
   "source": [
    "df['Danh mục'].value_counts()"
   ]
  },
  {
   "cell_type": "code",
   "execution_count": 8,
   "metadata": {},
   "outputs": [],
   "source": [
    "# Kiểm tra và loại bỏ các hàng có giá trị NaN trong cột 'Nội dung'\n",
    "df = df.dropna(subset=['Nội dung'])\n",
    "\n",
    "# Đảm bảo rằng tất cả các giá trị trong cột 'Nội dung' đều là chuỗi\n",
    "df['Nội dung'] = df['Nội dung'].astype(str)\n",
    "\n",
    "# Áp dụng các hàm xử lý văn bản\n",
    "df['Processed_Nội dung'] = df['Nội dung'].apply(lower_tokenize).apply(remove_stopword)\n",
    "\n",
    "# Xóa bỏ các hàng có dữ liệu rỗng hoặc chuỗi rỗng sau khi xử lý\n",
    "df = df.dropna(subset=['Processed_Nội dung'])\n",
    "df = df[df['Processed_Nội dung'].str.strip().astype(bool)]\n",
    "\n",
    "# Gán lại biến X và y\n",
    "X = df['Processed_Nội dung']\n",
    "y = df['Danh mục']"
   ]
  },
  {
   "cell_type": "code",
   "execution_count": null,
   "metadata": {},
   "outputs": [],
   "source": []
  }
 ],
 "metadata": {
  "kernelspec": {
   "display_name": "base",
   "language": "python",
   "name": "python3"
  },
  "language_info": {
   "codemirror_mode": {
    "name": "ipython",
    "version": 3
   },
   "file_extension": ".py",
   "mimetype": "text/x-python",
   "name": "python",
   "nbconvert_exporter": "python",
   "pygments_lexer": "ipython3",
   "version": "3.11.5"
  }
 },
 "nbformat": 4,
 "nbformat_minor": 2
}
