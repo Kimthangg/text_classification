{
 "cells": [
  {
   "cell_type": "code",
   "execution_count": null,
   "metadata": {},
   "outputs": [],
   "source": [
    "import requests as rq\n",
    "from bs4 import BeautifulSoup\n",
    "import pandas as pd\n",
    "import threading\n",
    "\n",
    "topics = ['thoi-su','the-gioi','kinh-te','doi-song','suc-khoe','gioi-tre','giao-duc','van-hoa','giai-tri','the-thao','cong-nghe-game','xe','du-lich']\n",
    "cac_danh_muc = ['Thời sự',\n",
    "                'Thế giới',\n",
    "                'Kinh tế',\n",
    "                'Đời sống',\n",
    "                'Sức khỏe',\n",
    "                'Giới trẻ',\n",
    "                'Giáo dục',\n",
    "                'Văn hóa',\n",
    "                'Giải trí',\n",
    "                'Thể thao',\n",
    "                'Công nghệ - Game',\n",
    "                'Xe',\n",
    "                'Du lịch',]\n",
    "base_url = 'https://thanhnien.vn'\n",
    "\n",
    "article_links = []\n",
    "data = []\n",
    "lock = threading.Lock()"
   ]
  },
  {
   "cell_type": "code",
   "execution_count": null,
   "metadata": {},
   "outputs": [],
   "source": [
    "def get_link(url):\n",
    "    print(len(article_links))\n",
    "    #Kiểm tra nếu lỗi thì bỏ qua\n",
    "    try:\n",
    "        response = rq.get(f\"{base_url}{url}\")\n",
    "        if response.status_code == 200:\n",
    "            soup = BeautifulSoup(response.content,\"html.parser\")\n",
    "            #Tìm all các ô có đường dẫn\n",
    "            content = soup.find_all('a',class_='box-category-link-title')\n",
    "            # Lấy link bài viết ở trang\n",
    "            for article in content:\n",
    "                with lock:\n",
    "                    #Kiểm tra href này có trong article_links chưa nếu chưa thì thêm vào\n",
    "                    if article['href'] not in article_links:\n",
    "                        article_links.append(article['href'])\n",
    "                        # print(article['href'])\n",
    "        else:\n",
    "            print(\"Không thể truy cập trang web.\")\n",
    "    except:\n",
    "        return\n",
    "#Lặp qua các topic lấy các href\n",
    "for topic in topics:\n",
    "    get_link(\"/\"+topic)\n",
    "#Dùng đa luồng lặp lấy các href từ article_links\n",
    "threads = []\n",
    "# max_threads = 10000\n",
    "for link in article_links:\n",
    "    #Nếu số lượng link lớn hơn 30000 dừng\n",
    "    if len(article_links) > 30000:\n",
    "        break\n",
    "    thread = threading.Thread(target=get_link, args=(link,))\n",
    "    thread.start()\n",
    "    threads.append(thread)"
   ]
  },
  {
   "cell_type": "code",
   "execution_count": null,
   "metadata": {},
   "outputs": [],
   "source": [
    "print(len(article_links))\n",
    "print(len(set(article_links)))"
   ]
  },
  {
   "cell_type": "code",
   "execution_count": null,
   "metadata": {},
   "outputs": [],
   "source": [
    "def get_content(url):\n",
    "    print(len(data))\n",
    "    try:\n",
    "        html_sub = rq.get(base_url+url)\n",
    "        # Use BeautifulSoup to parse the HTML\n",
    "        soup_sub = BeautifulSoup(html_sub.content, 'html.parser')\n",
    "        if soup_sub.find('div',class_ = 'detail-cate'):\n",
    "        #Lấy danh mục\n",
    "            danh_muc = soup_sub.find('div',class_ = 'detail-cate').find('a').text.strip()\n",
    "            if danh_muc not in cac_danh_muc:\n",
    "                return\n",
    "            #Lấy nội dung của bài viết\n",
    "            noi_dung = soup_sub.find('div',class_='detail-cmain').get_text()\n",
    "            #Lưu danh mục và nội dung dưới dạng từ điển\n",
    "            with lock:\n",
    "                data.append({'Danh mục':danh_muc,'Nội dung':noi_dung})\n",
    "        else:\n",
    "            return\n",
    "    except:\n",
    "        return\n",
    "#Dùng đa luồng lấy danh mục và nội dung từ các link đã crawl\n",
    "threads = []\n",
    "for link in article_links:\n",
    "    thread = threading.Thread(target=get_content, args=(link,))\n",
    "    thread.start()\n",
    "    threads.append(thread)"
   ]
  },
  {
   "cell_type": "code",
   "execution_count": null,
   "metadata": {},
   "outputs": [],
   "source": [
    "print(len(data))"
   ]
  },
  {
   "cell_type": "code",
   "execution_count": null,
   "metadata": {},
   "outputs": [],
   "source": [
    "# Lưu data thành file csv\n",
    "df = pd.DataFrame(data)\n",
    "df.to_csv('Data.csv', index=False)"
   ]
  },
  {
   "cell_type": "code",
   "execution_count": null,
   "metadata": {},
   "outputs": [],
   "source": []
  }
 ],
 "metadata": {
  "kernelspec": {
   "display_name": "base",
   "language": "python",
   "name": "python3"
  },
  "language_info": {
   "codemirror_mode": {
    "name": "ipython",
    "version": 3
   },
   "file_extension": ".py",
   "mimetype": "text/x-python",
   "name": "python",
   "nbconvert_exporter": "python",
   "pygments_lexer": "ipython3",
   "version": "3.11.5"
  }
 },
 "nbformat": 4,
 "nbformat_minor": 2
}
